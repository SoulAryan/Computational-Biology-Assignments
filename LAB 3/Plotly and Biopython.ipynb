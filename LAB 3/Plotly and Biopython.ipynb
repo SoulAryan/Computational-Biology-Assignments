{
 "cells": [
  {
   "cell_type": "markdown",
   "id": "7bc40bba",
   "metadata": {},
   "source": [
    "The plotly package is a powerful, open-source graphing library that allows you to create interactive, publication-quality visualizations in Python, R, Julia, and JavaScript. It's especially popular for its rich interactivity and integration with Jupyter Notebooks and web apps.\n",
    "\n",
    "### Key Features of Plotly\n",
    "\n",
    "\n",
    "1>Interactive plots:-\n",
    "  Hover info, zoom, pan, select data points.\n",
    "\n",
    "2>Wide variety of chart types:\n",
    "  (i)Line, Bar, Pie, Scatter, Area\n",
    "\n",
    "  (ii)Box, Violin, Histogram, Heatmaps\n",
    "\n",
    "  (iii)3D plots, Geo plots, Choropleths\n",
    "\n",
    "  (iv)Ternary, Polar, Bubble charts, and more\n",
    "\n",
    "Customizable: Themes, colors, annotations, subplots.\n",
    "\n",
    "\n",
    "### Introduction to BioPython\n",
    "\n",
    "What is BioPython?\n",
    "\n",
    "-->It is an open source collection of python tools use for computational biology and bioinformatics.\n",
    "\n",
    "\n",
    "It provides functionality for:-\n",
    "\n",
    "(i)Reading amd writing bioinformatics file formats(Fasta,GenBank,etc).\n",
    "\n",
    "(ii)Performing sequence analysis.\n",
    "\n",
    "(iii)Accessing online biological structures and alignment.\n",
    "\n",
    "\n",
    "### Key Features Of BioPython\n",
    "\n",
    "(I)Feature description.\n",
    "\n",
    "(II)Sequence handling:- Represent and manipulate DNA,RNA or protein sequences.\n",
    "\n",
    "(III)File parsing:- Supports a wide range of formats such as Fasta,GenBank,etc.\n",
    "\n",
    "(IV)NCBI Access:- Fetch sequences and run BLAST searches.\n",
    "\n",
    "(v)Structural Biology:- parse and analyse protein structures using PDB.\n",
    "\n",
    "(VI)Alignments:- read,write and manipulate sequence alignments.\n",
    "\n",
    "(VII)Graphics:- plot graphical content and codons uses and visualise genomic features.\n",
    "    \n",
    "\n"
   ]
  },
  {
   "cell_type": "markdown",
   "id": "28c4fc76",
   "metadata": {},
   "source": []
  }
 ],
 "metadata": {
  "language_info": {
   "name": "python"
  }
 },
 "nbformat": 4,
 "nbformat_minor": 5
}
