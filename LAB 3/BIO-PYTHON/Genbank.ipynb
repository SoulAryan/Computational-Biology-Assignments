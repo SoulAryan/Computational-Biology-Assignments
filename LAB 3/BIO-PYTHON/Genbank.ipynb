{
 "cells": [
  {
   "cell_type": "code",
   "execution_count": null,
   "id": "3ebb197a",
   "metadata": {},
   "outputs": [],
   "source": [
    "# Sample GenBank content\n",
    "gb_data = \"\"\"LOCUS       SCU49845     5028 bp    DNA             PLN       21-JUN-1999\n",
    "DEFINITION  Saccharomyces cerevisiae TCP1-beta gene.\n",
    "ACCESSION   U49845\n",
    "VERSION     U49845.1\n",
    "KEYWORDS    .\n",
    "SOURCE      Saccharomyces cerevisiae (baker's yeast)\n",
    "  ORGANISM  Saccharomyces cerevisiae\n",
    "            Eukaryota; Fungi; Ascomycota; Saccharomycotina.\n",
    "FEATURES             Location/Qualifiers\n",
    "     source          1..5028\n",
    "                     /organism=\"Saccharomyces cerevisiae\"\n",
    "                     /db_xref=\"taxon:4932\"\n",
    "ORIGIN\n",
    "        1 atgaccatga ttaacgccaag aaaaagggaa ggtggctcca aagttggtta gttctttttt\n",
    "       61 tatttatatt atttataatt gttttttaat aataataata ataataataa taaaataaaa\n",
    "//\"\"\"\n",
    "\n",
    "with open(\"example.gb\", \"w\") as f:\n",
    "    f.write(gb_data)\n",
    "\n",
    "print(\"GenBank file 'example.gb' created.\")"
   ]
  },
  {
   "cell_type": "code",
   "execution_count": 2,
   "id": "92f6e83c",
   "metadata": {},
   "outputs": [
    {
     "name": "stdout",
     "output_type": "stream",
     "text": [
      "ID:seq1\n",
      "Sequence:ATGCGTACGTTAG\n",
      "ID:seq2\n",
      "Sequence:TTGACGTAGCTAAGC\n"
     ]
    }
   ],
   "source": [
    "from Bio import SeqIO\n",
    "\n",
    "#load and parse the Fasta file\n",
    "\n",
    "for record in SeqIO.parse(\"example.fasta\",\"fasta\"):\n",
    "    print(f\"ID:{record.id}\")\n",
    "    print(f\"Sequence:{record.seq}\")\n"
   ]
  },
  {
   "cell_type": "code",
   "execution_count": null,
   "id": "3e83feb1",
   "metadata": {},
   "outputs": [],
   "source": []
  }
 ],
 "metadata": {
  "kernelspec": {
   "display_name": "Python 3",
   "language": "python",
   "name": "python3"
  },
  "language_info": {
   "codemirror_mode": {
    "name": "ipython",
    "version": 3
   },
   "file_extension": ".py",
   "mimetype": "text/x-python",
   "name": "python",
   "nbconvert_exporter": "python",
   "pygments_lexer": "ipython3",
   "version": "3.13.2"
  }
 },
 "nbformat": 4,
 "nbformat_minor": 5
}
