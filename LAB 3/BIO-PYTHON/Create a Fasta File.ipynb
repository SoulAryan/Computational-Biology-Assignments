{
 "cells": [
  {
   "cell_type": "code",
   "execution_count": 2,
   "id": "abb42cd8",
   "metadata": {},
   "outputs": [
    {
     "name": "stdout",
     "output_type": "stream",
     "text": [
      "FASTA file 'example.fasta' created.\n"
     ]
    }
   ],
   "source": [
    "# Create a FASTA file\n",
    "fasta_data = \"\"\">seq1\n",
    "ATGCGTACGTTAG\n",
    ">seq2\n",
    "TTGACGTAGCTAAGC\n",
    "\"\"\"\n",
    "\n",
    "with open(\"example.fasta\", \"w\") as f:\n",
    "    f.write(fasta_data)\n",
    "\n",
    "print(\"FASTA file 'example.fasta' created.\")"
   ]
  },
  {
   "cell_type": "code",
   "execution_count": 3,
   "id": "ea2c5ef8",
   "metadata": {},
   "outputs": [
    {
     "name": "stdout",
     "output_type": "stream",
     "text": [
      "ID:seq1\n",
      "Sequence:ATGCGTACGTTAG\n",
      "ID:seq2\n",
      "Sequence:TTGACGTAGCTAAGC\n"
     ]
    }
   ],
   "source": [
    "from Bio import SeqIO\n",
    "\n",
    "#Load and parse the FASTA File\n",
    "\n",
    "for record in SeqIO.parse(\"example.fasta\",\"fasta\"):\n",
    "    print(f\"ID:{record.id}\")\n",
    "    print(f\"Sequence:{record.seq}\")"
   ]
  },
  {
   "cell_type": "code",
   "execution_count": null,
   "id": "28d39b5c",
   "metadata": {},
   "outputs": [],
   "source": [
    "\n",
    "\n"
   ]
  }
 ],
 "metadata": {
  "kernelspec": {
   "display_name": "Python 3",
   "language": "python",
   "name": "python3"
  },
  "language_info": {
   "codemirror_mode": {
    "name": "ipython",
    "version": 3
   },
   "file_extension": ".py",
   "mimetype": "text/x-python",
   "name": "python",
   "nbconvert_exporter": "python",
   "pygments_lexer": "ipython3",
   "version": "3.13.2"
  }
 },
 "nbformat": 4,
 "nbformat_minor": 5
}
