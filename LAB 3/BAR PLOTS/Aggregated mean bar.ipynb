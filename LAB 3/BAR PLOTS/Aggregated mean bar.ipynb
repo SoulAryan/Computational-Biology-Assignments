{
 "cells": [
  {
   "cell_type": "markdown",
   "id": "b03b8119",
   "metadata": {},
   "source": [
    "#### 5> Aggregated Mean Bar Chart."
   ]
  },
  {
   "cell_type": "code",
   "execution_count": 1,
   "id": "ac9ca31d",
   "metadata": {},
   "outputs": [],
   "source": [
    "import pandas as pd\n",
    "import plotly.express as px\n",
    "\n",
    "# Sample Data Frame\n",
    "\n",
    "df=px.data.tips()"
   ]
  },
  {
   "cell_type": "code",
   "execution_count": 6,
   "id": "59f689ae",
   "metadata": {},
   "outputs": [
    {
     "ename": "SyntaxError",
     "evalue": "invalid syntax. Maybe you meant '==' or ':=' instead of '='? (1811671409.py, line 1)",
     "output_type": "error",
     "traceback": [
      "  \u001b[36mCell\u001b[39m\u001b[36m \u001b[39m\u001b[32mIn[6]\u001b[39m\u001b[32m, line 1\u001b[39m\n\u001b[31m    \u001b[39m\u001b[31mfig5=(df.groupby(\"day\",as_index=False).mean,x=\"day\",y=\"total_bill\")\u001b[39m\n                                                ^\n\u001b[31mSyntaxError\u001b[39m\u001b[31m:\u001b[39m invalid syntax. Maybe you meant '==' or ':=' instead of '='?\n"
     ]
    }
   ],
   "source": [
    "fig5=(df.groupby(\"day\",as_index=False).mean,x=\"day\",y=\"total_bill\")\n",
    "fig5.show()"
   ]
  },
  {
   "cell_type": "code",
   "execution_count": null,
   "id": "69797e0f",
   "metadata": {},
   "outputs": [],
   "source": [
    "    "
   ]
  }
 ],
 "metadata": {
  "kernelspec": {
   "display_name": "Python 3",
   "language": "python",
   "name": "python3"
  },
  "language_info": {
   "codemirror_mode": {
    "name": "ipython",
    "version": 3
   },
   "file_extension": ".py",
   "mimetype": "text/x-python",
   "name": "python",
   "nbconvert_exporter": "python",
   "pygments_lexer": "ipython3",
   "version": "3.13.2"
  }
 },
 "nbformat": 4,
 "nbformat_minor": 5
}
