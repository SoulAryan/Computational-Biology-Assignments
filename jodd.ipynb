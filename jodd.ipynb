{
 "cells": [
  {
   "cell_type": "markdown",
   "id": "f803b6d3",
   "metadata": {},
   "source": [
    "Why do we need Statistical functions in Python?\n",
    "\n",
    "1>Understandig data(data analysis):-raw data is meaningningless withpout sumaarisation\n",
    "2>Statistical functions like mean,median,standard deviation helps us to summarise,understand and interpret large data sets.\n",
    "3>Example:-instad of looking at ten thousand salary entries,you can just look at mean salary,range and standard deviation to understand the spread.\n",
    "\n",
    "2> making inform decisions\n",
    "    1>In fields like business,health care,sports,finance and science,decisions must be data driven\n",
    "    2>Statistics gives clear evidence from data\n",
    "    3>Example:-predicting whether a new drug is effective based on mean recovering times\n",
    "\n",
    "3> Handling big data sets quickly\n",
    "    1>Python can work with large amounts of data\n",
    "    2>Statistical functions allows you to compute results in seconds(insteasd of manual calculation),which would take days.\n",
    "    3>Libraries like numpy,pandas and scipy are optimised for speed and accuracy.\n",
    "\n",
    "\n",
    "4> Data cleaning and preproceesing\n",
    "    1>Before building any machine learning model or visualisation we must check for missing values,outliers,skewness,etc.\n",
    "    2>Statistical measures detect problems in data.\n",
    "    3>Example:-a very high standard deviation might signal outliers that you should remove.\n",
    "\n",
    "5> Comparing data sets\n",
    "Suppose you have scores from two different exams you can use mean,variance and skewness to compare them fairly.\n",
    "\n",
    "6> Supporting machine learning models\n",
    "    1>Machine learning models assumes that data has certain statistical properties(like normal distribution)\n",
    "    2>Feature engineering often uses statistics:-mean normalisation,standardisation(Z-score,etc.)\n",
    "    3>Example:-Logistic regression assumes that input features are scaled achieved by standard deviation.\n",
    "\n",
    "7> Visualisation and reporting\n",
    "    1>Satistical summaries helps us to create beautiful visulisations like histogram(show distribution),boxplot(show spread outliers),bell curves(normal distribution).\n",
    "    2>You can't visualise smartly without understanding the underlying statistics."
   ]
  },
  {
   "cell_type": "markdown",
   "id": "05cbdc71",
   "metadata": {},
   "source": [
    "Summary of Statistical function in pythons\n",
    "\n",
    "1>Summarise Data-mean,median,mode\n",
    "\n",
    "2>Understand spread-variance,standard deviation,range\n",
    "\n",
    "3>Detect patterns and anamolies of data:-skewness and kurtosis\n",
    "\n",
    "4>Make decisions:-comparing means and variances\n",
    "\n",
    "5>Prepare data for models:-normalisation,scaling\n",
    "\n",
    "6>Communicate findings:-summary reports and graphs"
   ]
  }
 ],
 "metadata": {
  "language_info": {
   "name": "python"
  }
 },
 "nbformat": 4,
 "nbformat_minor": 5
}
